{
 "cells": [
  {
   "cell_type": "code",
   "execution_count": 2,
   "metadata": {
    "id": "Uh1c3xrKaRyH"
   },
   "outputs": [],
   "source": [
    "import numpy as np\n",
    "import pandas as pd\n",
    "import matplotlib.pyplot as plt\n",
    "from scipy.optimize import curve_fit"
   ]
  },
  {
   "cell_type": "markdown",
   "metadata": {
    "id": "hRM38qytVAw-"
   },
   "source": [
    "###**CTN 1** - Octubre 25, 2021"
   ]
  },
  {
   "cell_type": "markdown",
   "metadata": {
    "id": "9Gn4Sl27ERGO"
   },
   "source": [
    "###**CTN 2** - Octubre 30, 2021"
   ]
  },
  {
   "cell_type": "markdown",
   "metadata": {
    "id": "mrS5bo_rnG1u"
   },
   "source": [
    "###**CTN 3** - Noviembre 17, 2021"
   ]
  },
  {
   "cell_type": "markdown",
   "metadata": {
    "id": "c_ahBgtmRXrf"
   },
   "source": [
    "###**CTN 4** - Noviembre 22, 2021"
   ]
  },
  {
   "cell_type": "markdown",
   "metadata": {
    "id": "51i1zLqiYxzz"
   },
   "source": [
    "#Cálculos"
   ]
  },
  {
   "cell_type": "markdown",
   "metadata": {
    "id": "fBLW087UY4_7"
   },
   "source": [
    "$$ \\%L = \\frac{I_P - I_L}{I_T - I_L} \\times 100 \\% $$\n"
   ]
  },
  {
   "cell_type": "code",
   "execution_count": 7,
   "metadata": {
    "id": "AYkDAjGHi62R"
   },
   "outputs": [],
   "source": [
    "def leerArchivo(nombre_archivo):\n",
    "  data = open(nombre_archivo,errors='ignore')\n",
    "  datos = data.readlines()[25:]\n",
    "  tiempo = np.zeros(len(datos))\n",
    "  intensidad = np.zeros(len(datos))\n",
    "  error_intensidad  = np.zeros(len(datos))\n",
    "\n",
    "  for i in range(0,len(datos)):\n",
    "    a = datos[i]\n",
    "    t = float(a.split('\\t')[1])\n",
    "    err = a.split('\\t')[2][:29].split(' ')[-1]\n",
    "    intens = a.split('\\t')[2][:16].split(' ')[-1]\n",
    "    tiempo[i], intensidad[i], error_intensidad[i] = t, intens, err\n",
    "\n",
    "  return tiempo, intensidad/max(intensidad), error_intensidad/max(intensidad)"
   ]
  },
  {
   "cell_type": "code",
   "execution_count": 8,
   "metadata": {
    "id": "MATEcTWh7hET"
   },
   "outputs": [],
   "source": [
    "# nombre_archivo - Nombre del archivo en el repositorio - Ej: \"01 Liposomas a 37 grados.ifx\"\n",
    "def calcularL(nombre_archivo, lipo_inicial, lipo_final, pepti_inicial, pepti_final, triton_inicial, triton_final, titulo):\n",
    "  ps = 30\n",
    "  colors = ['blue','orange','green']\n",
    "  fig,ax = plt.subplots(1,len(nombre_archivo),figsize=(20*len(nombre_archivo)/3,5))\n",
    "  L = np.zeros(len(nombre_archivo))\n",
    "  for i in range(0,len(nombre_archivo)):\n",
    "    c1 = colors[i]\n",
    "    tiempo, intensidad,error_intensidad = leerArchivo(nombre_archivo[i])\n",
    "    ax[i].errorbar(tiempo,intensidad,yerr=error_intensidad,fmt='-',c=c1,label='Intento '+str(i+1))\n",
    "    ax[i].set(xlabel=\"Tiempos [s]\", ylabel=\"Intensidad [u.a.]\")\n",
    "    ax[i].scatter(tiempo[lipo_inicial[i]:lipo_final[i]],intensidad[lipo_inicial[i]:lipo_final[i]],c=c1,s=ps)\n",
    "    ax[i].scatter(tiempo[pepti_inicial[i]:pepti_final[i]],intensidad[pepti_inicial[i]:pepti_final[i]],c=c1,s=ps)\n",
    "    ax[i].scatter(tiempo[triton_inicial[i]:triton_final[i]],intensidad[triton_inicial[i]:triton_final[i]],c=c1,s=ps)\n",
    "    ax[i].set_title(titulo)\n",
    "    ax[i].legend()\n",
    "    L[i] = 100*(np.average(intensidad[pepti_inicial[i]:pepti_final[i]])-np.average(intensidad[lipo_inicial[i]:lipo_final[i]]))/(np.average(intensidad[triton_inicial[i]:triton_final[i]])-np.average(intensidad[lipo_inicial[i]:lipo_final[i]]))\n",
    "  \n",
    "\n",
    "\n",
    "  plt.savefig(titulo+'.pdf')\n",
    "  \n",
    "\n",
    "  return np.average(L), np.std(L)"
   ]
  },
  {
   "cell_type": "code",
   "execution_count": 9,
   "metadata": {
    "id": "xi1_1y6X4_Iz"
   },
   "outputs": [],
   "source": [
    "def sigmoid(x,a,h,k):\n",
    "  y = np.divide(1,1+np.exp(np.multiply(a,np.add(x,h))))\n",
    "  return np.multiply(100,y+k)"
   ]
  },
  {
   "cell_type": "code",
   "execution_count": 10,
   "metadata": {
    "id": "iBkb7dVldjL2"
   },
   "outputs": [],
   "source": [
    "def graficar(Lctn, errorLctn, cctn, ctn, p0):\n",
    "  for i in range(0,len(Lctn)):\n",
    "    if Lctn[i]>100:\n",
    "      Lctn[i] = 100\n",
    "    cctn = np.divide(cctn,30)\n",
    "  plt.errorbar(cctn,Lctn,yerr=errorLctn,fmt='o')\n",
    "  #plt.xlabel('Concentración de '+ctn+' [$\\mu$M]')\n",
    "  #popt, pcov = curve_fit(sigmoid, cctn, Lctn, p0)\n",
    "  t=np.linspace(min(cctn),max(cctn))\n",
    "  #y = sigmoid(t,*popt)\n",
    "  y2 = sigmoid(t,*p0)\n",
    "  plt.plot(t,y)\n",
    "  plt.plot(t,y2)\n",
    "  plt.xscale('log')\n",
    "  plt.xlabel('Logaritmo de P/L')\n",
    "  plt.ylabel('Porcentaje de fuga de calceína')\n",
    "  plt.title('Porcentaje de fuga de calceína en \\n función de logaritmo de P/L para '+ctn)\n",
    "  plt.savefig('0'+ctn+'.pdf')\n",
    "  plt.grid(True)\n",
    "  return cctn, Lctn, popt"
   ]
  },
  {
   "cell_type": "markdown",
   "metadata": {
    "id": "B2JI5xsbGShO"
   },
   "source": [
    "##***Ctn1***"
   ]
  },
  {
   "cell_type": "code",
   "execution_count": 11,
   "metadata": {
    "id": "ucYZgmCKQh39"
   },
   "outputs": [],
   "source": [
    "Lctn1 = []\n",
    "errorlctn1 = []\n",
    "cctn1 = []"
   ]
  },
  {
   "cell_type": "code",
   "execution_count": 13,
   "metadata": {
    "colab": {
     "base_uri": "https://localhost:8080/",
     "height": 367
    },
    "id": "d2Np-cuu50hX",
    "outputId": "40def12b-fdc3-4ff7-c9cd-0f3862baae7c"
   },
   "outputs": [
    {
     "ename": "FileNotFoundError",
     "evalue": "[Errno 2] No such file or directory: '01 B + L.ifx'",
     "output_type": "error",
     "traceback": [
      "\u001b[1;31m---------------------------------------------------------------------------\u001b[0m",
      "\u001b[1;31mFileNotFoundError\u001b[0m                         Traceback (most recent call last)",
      "\u001b[1;32m<ipython-input-13-e8e490ebc862>\u001b[0m in \u001b[0;36m<module>\u001b[1;34m\u001b[0m\n\u001b[0;32m      1\u001b[0m \u001b[1;31m#c=0mM\u001b[0m\u001b[1;33m\u001b[0m\u001b[1;33m\u001b[0m\u001b[1;33m\u001b[0m\u001b[0m\n\u001b[1;32m----> 2\u001b[1;33m \u001b[0mL\u001b[0m\u001b[1;33m,\u001b[0m \u001b[0merrorL\u001b[0m \u001b[1;33m=\u001b[0m \u001b[0mcalcularL\u001b[0m\u001b[1;33m(\u001b[0m\u001b[1;33m[\u001b[0m\u001b[1;34m\"01 B + L.ifx\"\u001b[0m\u001b[1;33m,\u001b[0m\u001b[1;34m\"02 B + L - r1.ifx\"\u001b[0m\u001b[1;33m,\u001b[0m\u001b[1;34m\"03 B + L - r2.ifx\"\u001b[0m\u001b[1;33m]\u001b[0m\u001b[1;33m,\u001b[0m\u001b[1;33m[\u001b[0m\u001b[1;36m23\u001b[0m\u001b[1;33m,\u001b[0m\u001b[1;36m14\u001b[0m\u001b[1;33m,\u001b[0m\u001b[1;36m19\u001b[0m\u001b[1;33m]\u001b[0m\u001b[1;33m,\u001b[0m\u001b[1;33m[\u001b[0m\u001b[1;36m43\u001b[0m\u001b[1;33m,\u001b[0m\u001b[1;36m29\u001b[0m\u001b[1;33m,\u001b[0m\u001b[1;36m31\u001b[0m\u001b[1;33m]\u001b[0m\u001b[1;33m,\u001b[0m\u001b[1;33m[\u001b[0m\u001b[1;36m23\u001b[0m\u001b[1;33m,\u001b[0m\u001b[1;36m14\u001b[0m\u001b[1;33m,\u001b[0m\u001b[1;36m19\u001b[0m\u001b[1;33m]\u001b[0m\u001b[1;33m,\u001b[0m\u001b[1;33m[\u001b[0m\u001b[1;36m43\u001b[0m\u001b[1;33m,\u001b[0m\u001b[1;36m29\u001b[0m\u001b[1;33m,\u001b[0m\u001b[1;36m31\u001b[0m\u001b[1;33m]\u001b[0m\u001b[1;33m,\u001b[0m\u001b[1;33m[\u001b[0m\u001b[1;36m50\u001b[0m\u001b[1;33m,\u001b[0m\u001b[1;36m31\u001b[0m\u001b[1;33m,\u001b[0m\u001b[1;36m34\u001b[0m\u001b[1;33m]\u001b[0m\u001b[1;33m,\u001b[0m\u001b[1;33m[\u001b[0m\u001b[1;36m53\u001b[0m\u001b[1;33m,\u001b[0m\u001b[1;36m54\u001b[0m\u001b[1;33m,\u001b[0m\u001b[1;36m54\u001b[0m\u001b[1;33m]\u001b[0m\u001b[1;33m,\u001b[0m\u001b[1;34m\"Intensidad en función de tiempo de buffer y liposomas\"\u001b[0m\u001b[1;33m)\u001b[0m\u001b[1;33m\u001b[0m\u001b[1;33m\u001b[0m\u001b[0m\n\u001b[0m\u001b[0;32m      3\u001b[0m \u001b[0mprint\u001b[0m\u001b[1;33m(\u001b[0m\u001b[0mL\u001b[0m\u001b[1;33m,\u001b[0m \u001b[0merrorL\u001b[0m\u001b[1;33m)\u001b[0m\u001b[1;33m\u001b[0m\u001b[1;33m\u001b[0m\u001b[0m\n\u001b[0;32m      4\u001b[0m \u001b[0mLctn1\u001b[0m\u001b[1;33m.\u001b[0m\u001b[0mappend\u001b[0m\u001b[1;33m(\u001b[0m\u001b[0mL\u001b[0m\u001b[1;33m)\u001b[0m\u001b[1;33m\u001b[0m\u001b[1;33m\u001b[0m\u001b[0m\n\u001b[0;32m      5\u001b[0m \u001b[0merrorlctn1\u001b[0m\u001b[1;33m.\u001b[0m\u001b[0mappend\u001b[0m\u001b[1;33m(\u001b[0m\u001b[0merrorL\u001b[0m\u001b[1;33m)\u001b[0m\u001b[1;33m\u001b[0m\u001b[1;33m\u001b[0m\u001b[0m\n",
      "\u001b[1;32m<ipython-input-8-b94d0e059cdd>\u001b[0m in \u001b[0;36mcalcularL\u001b[1;34m(nombre_archivo, lipo_inicial, lipo_final, pepti_inicial, pepti_final, triton_inicial, triton_final, titulo)\u001b[0m\n\u001b[0;32m      7\u001b[0m   \u001b[1;32mfor\u001b[0m \u001b[0mi\u001b[0m \u001b[1;32min\u001b[0m \u001b[0mrange\u001b[0m\u001b[1;33m(\u001b[0m\u001b[1;36m0\u001b[0m\u001b[1;33m,\u001b[0m\u001b[0mlen\u001b[0m\u001b[1;33m(\u001b[0m\u001b[0mnombre_archivo\u001b[0m\u001b[1;33m)\u001b[0m\u001b[1;33m)\u001b[0m\u001b[1;33m:\u001b[0m\u001b[1;33m\u001b[0m\u001b[1;33m\u001b[0m\u001b[0m\n\u001b[0;32m      8\u001b[0m     \u001b[0mc1\u001b[0m \u001b[1;33m=\u001b[0m \u001b[0mcolors\u001b[0m\u001b[1;33m[\u001b[0m\u001b[0mi\u001b[0m\u001b[1;33m]\u001b[0m\u001b[1;33m\u001b[0m\u001b[1;33m\u001b[0m\u001b[0m\n\u001b[1;32m----> 9\u001b[1;33m     \u001b[0mtiempo\u001b[0m\u001b[1;33m,\u001b[0m \u001b[0mintensidad\u001b[0m\u001b[1;33m,\u001b[0m\u001b[0merror_intensidad\u001b[0m \u001b[1;33m=\u001b[0m \u001b[0mleerArchivo\u001b[0m\u001b[1;33m(\u001b[0m\u001b[0mnombre_archivo\u001b[0m\u001b[1;33m[\u001b[0m\u001b[0mi\u001b[0m\u001b[1;33m]\u001b[0m\u001b[1;33m)\u001b[0m\u001b[1;33m\u001b[0m\u001b[1;33m\u001b[0m\u001b[0m\n\u001b[0m\u001b[0;32m     10\u001b[0m     \u001b[0max\u001b[0m\u001b[1;33m[\u001b[0m\u001b[0mi\u001b[0m\u001b[1;33m]\u001b[0m\u001b[1;33m.\u001b[0m\u001b[0merrorbar\u001b[0m\u001b[1;33m(\u001b[0m\u001b[0mtiempo\u001b[0m\u001b[1;33m,\u001b[0m\u001b[0mintensidad\u001b[0m\u001b[1;33m,\u001b[0m\u001b[0myerr\u001b[0m\u001b[1;33m=\u001b[0m\u001b[0merror_intensidad\u001b[0m\u001b[1;33m,\u001b[0m\u001b[0mfmt\u001b[0m\u001b[1;33m=\u001b[0m\u001b[1;34m'-'\u001b[0m\u001b[1;33m,\u001b[0m\u001b[0mc\u001b[0m\u001b[1;33m=\u001b[0m\u001b[0mc1\u001b[0m\u001b[1;33m,\u001b[0m\u001b[0mlabel\u001b[0m\u001b[1;33m=\u001b[0m\u001b[1;34m'Intento '\u001b[0m\u001b[1;33m+\u001b[0m\u001b[0mstr\u001b[0m\u001b[1;33m(\u001b[0m\u001b[0mi\u001b[0m\u001b[1;33m+\u001b[0m\u001b[1;36m1\u001b[0m\u001b[1;33m)\u001b[0m\u001b[1;33m)\u001b[0m\u001b[1;33m\u001b[0m\u001b[1;33m\u001b[0m\u001b[0m\n\u001b[0;32m     11\u001b[0m     \u001b[0max\u001b[0m\u001b[1;33m[\u001b[0m\u001b[0mi\u001b[0m\u001b[1;33m]\u001b[0m\u001b[1;33m.\u001b[0m\u001b[0mset\u001b[0m\u001b[1;33m(\u001b[0m\u001b[0mxlabel\u001b[0m\u001b[1;33m=\u001b[0m\u001b[1;34m\"Tiempos [s]\"\u001b[0m\u001b[1;33m,\u001b[0m \u001b[0mylabel\u001b[0m\u001b[1;33m=\u001b[0m\u001b[1;34m\"Intensidad [u.a.]\"\u001b[0m\u001b[1;33m)\u001b[0m\u001b[1;33m\u001b[0m\u001b[1;33m\u001b[0m\u001b[0m\n",
      "\u001b[1;32m<ipython-input-7-f438f7ea05ec>\u001b[0m in \u001b[0;36mleerArchivo\u001b[1;34m(nombre_archivo)\u001b[0m\n\u001b[0;32m      1\u001b[0m \u001b[1;32mdef\u001b[0m \u001b[0mleerArchivo\u001b[0m\u001b[1;33m(\u001b[0m\u001b[0mnombre_archivo\u001b[0m\u001b[1;33m)\u001b[0m\u001b[1;33m:\u001b[0m\u001b[1;33m\u001b[0m\u001b[1;33m\u001b[0m\u001b[0m\n\u001b[1;32m----> 2\u001b[1;33m   \u001b[0mdata\u001b[0m \u001b[1;33m=\u001b[0m \u001b[0mopen\u001b[0m\u001b[1;33m(\u001b[0m\u001b[0mnombre_archivo\u001b[0m\u001b[1;33m,\u001b[0m\u001b[0merrors\u001b[0m\u001b[1;33m=\u001b[0m\u001b[1;34m'ignore'\u001b[0m\u001b[1;33m)\u001b[0m\u001b[1;33m\u001b[0m\u001b[1;33m\u001b[0m\u001b[0m\n\u001b[0m\u001b[0;32m      3\u001b[0m   \u001b[0mdatos\u001b[0m \u001b[1;33m=\u001b[0m \u001b[0mdata\u001b[0m\u001b[1;33m.\u001b[0m\u001b[0mreadlines\u001b[0m\u001b[1;33m(\u001b[0m\u001b[1;33m)\u001b[0m\u001b[1;33m[\u001b[0m\u001b[1;36m25\u001b[0m\u001b[1;33m:\u001b[0m\u001b[1;33m]\u001b[0m\u001b[1;33m\u001b[0m\u001b[1;33m\u001b[0m\u001b[0m\n\u001b[0;32m      4\u001b[0m   \u001b[0mtiempo\u001b[0m \u001b[1;33m=\u001b[0m \u001b[0mnp\u001b[0m\u001b[1;33m.\u001b[0m\u001b[0mzeros\u001b[0m\u001b[1;33m(\u001b[0m\u001b[0mlen\u001b[0m\u001b[1;33m(\u001b[0m\u001b[0mdatos\u001b[0m\u001b[1;33m)\u001b[0m\u001b[1;33m)\u001b[0m\u001b[1;33m\u001b[0m\u001b[1;33m\u001b[0m\u001b[0m\n\u001b[0;32m      5\u001b[0m   \u001b[0mintensidad\u001b[0m \u001b[1;33m=\u001b[0m \u001b[0mnp\u001b[0m\u001b[1;33m.\u001b[0m\u001b[0mzeros\u001b[0m\u001b[1;33m(\u001b[0m\u001b[0mlen\u001b[0m\u001b[1;33m(\u001b[0m\u001b[0mdatos\u001b[0m\u001b[1;33m)\u001b[0m\u001b[1;33m)\u001b[0m\u001b[1;33m\u001b[0m\u001b[1;33m\u001b[0m\u001b[0m\n",
      "\u001b[1;31mFileNotFoundError\u001b[0m: [Errno 2] No such file or directory: '01 B + L.ifx'"
     ]
    },
    {
     "data": {
      "image/png": "[encoded data removed]",
      "text/plain": [
       "<Figure size 1440x360 with 3 Axes>"
      ]
     },
     "metadata": {
      "needs_background": "light"
     },
     "output_type": "display_data"
    }
   ],
   "source": [
    "#c=0mM\n",
    "L, errorL = calcularL([\"01 B + L.ifx\",\"02 B + L - r1.ifx\",\"03 B + L - r2.ifx\"],[23,14,19],[43,29,31],[23,14,19],[43,29,31],[50,31,34],[53,54,54],\"Intensidad en función de tiempo de buffer y liposomas\")\n",
    "print(L, errorL)\n",
    "Lctn1.append(L)\n",
    "errorlctn1.append(errorL)\n",
    "cctn1.append(0)"
   ]
  },
  {
   "cell_type": "code",
   "execution_count": null,
   "metadata": {
    "colab": {
     "base_uri": "https://localhost:8080/",
     "height": 382
    },
    "id": "fX0WCgoqhdI2",
    "outputId": "c48e977d-fa08-4a8e-a948-180fb01134ca"
   },
   "outputs": [],
   "source": [
    "#c=1mM\n",
    "L, errorL = calcularL([\"13 B + L + P(b) + T .ifx\",\"14 B + L + P(b) + T .ifx\"],[5,8],[25,23],[31,26],[42,39],[45,42],[63,62],\"Intensidad en función de tiempo \\n de buffer, liposomas y 1mM de Ctn1\")\n",
    "print(L, errorL)\n",
    "Lctn1.append(L)\n",
    "errorlctn1.append(errorL)\n",
    "#1000uM*2uL/1000uL\n",
    "cctn1.append(1000*2/1000)"
   ]
  },
  {
   "cell_type": "code",
   "execution_count": null,
   "metadata": {
    "colab": {
     "base_uri": "https://localhost:8080/",
     "height": 384
    },
    "id": "aJcmbdQI2Idj",
    "outputId": "3c183337-92b7-46ec-f466-9f811a7cad97"
   },
   "outputs": [],
   "source": [
    "#c=100uM\n",
    "L, errorL = calcularL([\"18B + L + P(c) + T.ifx\",\"20B + L + P(c) + T.ifx\"],[5,5],[17,19],[32,25],[44,35],[47,39],[63,62],\"Intensidad en función de tiempo \\n de buffer, liposomas y 100$\\mu$M de Ctn1\")\n",
    "print(L, errorL)\n",
    "Lctn1.append(L)\n",
    "errorlctn1.append(errorL)\n",
    "#100uM*2uL/1000uL\n",
    "cctn1.append(100*2/1000)"
   ]
  },
  {
   "cell_type": "code",
   "execution_count": null,
   "metadata": {
    "colab": {
     "base_uri": "https://localhost:8080/",
     "height": 384
    },
    "id": "v34GyXBe7Ujc",
    "outputId": "e9673a25-ebec-40d8-c919-09a55f58c6f1"
   },
   "outputs": [],
   "source": [
    "#c=10uM\n",
    "L, errorL = calcularL([\"21B + L + P(d) + T.ifx\",\"22B + L + P(d) + T.ifx\",\"23B + L + P(d) + T.ifx\"],[24,17,10],[32,28,20],[36,32,26],[49,40,38],[52,45,45],[54,62,53],\"Intensidad en función de tiempo \\n de buffer, liposomas y 10$\\mu$M de Ctn1\")\n",
    "print(L, errorL)\n",
    "Lctn1.append(L)\n",
    "errorlctn1.append(errorL)\n",
    "#10uM*2uL/1000uL\n",
    "cctn1.append(10*2/1000)"
   ]
  },
  {
   "cell_type": "code",
   "execution_count": null,
   "metadata": {
    "colab": {
     "base_uri": "https://localhost:8080/",
     "height": 384
    },
    "id": "pZpsF5kL8K97",
    "outputId": "24bb493f-df2a-42bb-ea0d-355b39b7455b"
   },
   "outputs": [],
   "source": [
    "#c=1uM\n",
    "L, errorL = calcularL([\"24B + L + P(e) + T.ifx\",\"25B + L + P(e) + T.ifx\",\"26B + L + P(e) + T.ifx\"],[10,10,10],[22,17,16],[25,20,21],[33,32,34],[42,38,37],[52,62,53],\"Intensidad en función de tiempo \\n de buffer, liposomas y 1$\\mu$M de Ctn1\")\n",
    "print(L, errorL)\n",
    "Lctn1.append(L)\n",
    "errorlctn1.append(errorL)\n",
    "#1uM*2uL/1000uL\n",
    "cctn1.append(1*2/1000)"
   ]
  },
  {
   "cell_type": "code",
   "execution_count": null,
   "metadata": {
    "colab": {
     "base_uri": "https://localhost:8080/",
     "height": 422
    },
    "id": "_Qh_btum9p9U",
    "outputId": "da307b70-6930-4c8e-d6a1-fd042cadb0cb"
   },
   "outputs": [],
   "source": [
    "#c=0.1uM\n",
    "L, errorL = calcularL([\"28B + L + P(f) + T.ifx\",\"29B + L + P(f) + T.ifx\",\"30B + L + P(f) + T.ifx\"],[5,10,8],[11,27,18],[14,31,21],[26,43,33],[32,46,37],[52,62,53],\"Intensidad en función de tiempo \\n de buffer, liposomas y 0.1$\\mu$M de Ctn1\")\n",
    "print(L, errorL)\n",
    "Lctn1.append(L)\n",
    "errorlctn1.append(errorL)\n",
    "#0.1uM*2uL/1000uL\n",
    "cctn1.append(0.1*2/1000)\n",
    "\n",
    "print(Lctn1, cctn1)"
   ]
  },
  {
   "cell_type": "markdown",
   "metadata": {
    "id": "WEzOp2Q4gJnW"
   },
   "source": [
    "$$ C_{cub} = \\frac{C_{péptido}V_{péptido}}{V_{cubeta}} $$"
   ]
  },
  {
   "cell_type": "markdown",
   "metadata": {
    "id": "_3m42RdWGYrm"
   },
   "source": [
    "##***Ctn2***"
   ]
  },
  {
   "cell_type": "code",
   "execution_count": null,
   "metadata": {
    "id": "aLRpElMPmCja"
   },
   "outputs": [],
   "source": [
    "Lctn2 = []\n",
    "errorlctn2 = []\n",
    "cctn2 = []"
   ]
  },
  {
   "cell_type": "code",
   "execution_count": null,
   "metadata": {
    "colab": {
     "base_uri": "https://localhost:8080/",
     "height": 367
    },
    "id": "u2cJygsFGfL1",
    "outputId": "9b70161d-47ed-43bf-dbbd-abe9bdd88196"
   },
   "outputs": [],
   "source": [
    "#c=0uM\n",
    "L, errorL = calcularL([\"1 B + L + J.ifx\",\"2 B + L + J.ifx\"],[13,14,19],[43,29,31],[13,14,19],[43,29,31],[50,31,34],[53,54,54],\"Intensidad en función de tiempo de buffer y liposomas\")\n",
    "print(L, errorL)\n",
    "Lctn2.append(L)\n",
    "errorlctn2.append(errorL)\n",
    "#0*2uL/1000uL\n",
    "cctn2.append(0)"
   ]
  },
  {
   "cell_type": "code",
   "execution_count": null,
   "metadata": {
    "colab": {
     "base_uri": "https://localhost:8080/",
     "height": 382
    },
    "id": "flU98YjxGo27",
    "outputId": "d9d6372d-d4f7-46c2-a506-bff64cb49f1f"
   },
   "outputs": [],
   "source": [
    "#c=10mM\n",
    "L, errorL = calcularL([\"3 B + L + P(10mM) + J.ifx\",\"4 B + L + P(10mM) + J.ifx\",\"5 B + L + P(10mM) + J.ifx\"],[7,5,7],[24,23,27],[26,25,31],[43,45,45],[49,46,47],[69,66,66],\"Intensidad en función de tiempo de buffer y liposomas \\n de buffer, liposomas y 10mM de Ctn-2\")\n",
    "print(L, errorL)\n",
    "Lctn2.append(L)\n",
    "errorlctn2.append(errorL)\n",
    "#10000uM*5uL/1000uL\n",
    "cctn2.append(10000*5/1000)"
   ]
  },
  {
   "cell_type": "code",
   "execution_count": null,
   "metadata": {
    "colab": {
     "base_uri": "https://localhost:8080/",
     "height": 382
    },
    "id": "Ec8Ej2SDSeXL",
    "outputId": "e8f4654b-feeb-4cff-b3e6-9a5cb9554fa8"
   },
   "outputs": [],
   "source": [
    "#c=1mM\n",
    "L, errorL = calcularL([\"6 B + L + P(1mM) + J.ifx\",\"7 B + L + P(1mM) + J - 1.ifx\",\"8 B + L + P(1mM) + J - 2.ifx\"],[7,8,7],[22,31,23],[26,35,26],[43,46,42],[49,46,47],[69,66,66],\"Intensidad en función de tiempo de buffer y liposomas \\n de buffer, liposomas y 1mM de Ctn-2\")\n",
    "print(L, errorL)\n",
    "Lctn2.append(L)\n",
    "errorlctn2.append(errorL)\n",
    "#1000uM*5uL/1000uL\n",
    "cctn2.append(1000*5/1000)"
   ]
  },
  {
   "cell_type": "code",
   "execution_count": null,
   "metadata": {
    "colab": {
     "base_uri": "https://localhost:8080/",
     "height": 382
    },
    "id": "R5TXKjd4YhbY",
    "outputId": "071ea0a3-39a2-4500-980a-3d5c6c4d1579"
   },
   "outputs": [],
   "source": [
    "#c=0.1mM\n",
    "L, errorL = calcularL([\"9 B + L + P(0.1mM) + J.ifx\",\"10 B + L + P(0.1mM) + J - 1.ifx\",\"12 B + L + P(0.1mM) + J - 2real.ifx\"],[7,8,17],[22,29,37],[26,35,43],[43,44,53],[49,48,54],[69,66,66],\"Intensidad en función de tiempo de buffer y liposomas \\n de buffer, liposomas y 0.1mM de Ctn-2\")\n",
    "print(L, errorL)\n",
    "Lctn2.append(L)\n",
    "errorlctn2.append(errorL)\n",
    "#100uM*5uL/1000uL\n",
    "cctn2.append(100*5/1000)"
   ]
  },
  {
   "cell_type": "code",
   "execution_count": null,
   "metadata": {
    "colab": {
     "base_uri": "https://localhost:8080/",
     "height": 384
    },
    "id": "JHQ7ALXVZGkc",
    "outputId": "55e25c68-c3be-41b9-a0ac-4e92ff3dfbf4"
   },
   "outputs": [],
   "source": [
    "#c=10uM\n",
    "L, errorL = calcularL([\"13 B + L + P(10uM) + J - 1.ifx\",\"13 B + L + P(10uM) + J - 2.ifx\",\"13 B + L + P(10uM) + J.ifx\"],[7,15,20],[22,25,29],[26,35,39],[44,48,45],[49,51,47],[69,66,66],\"Intensidad en función de tiempo de buffer y liposomas \\n de buffer, liposomas y 10$\\mu$M de Ctn-2\")\n",
    "print(L, errorL)\n",
    "Lctn2.append(L)\n",
    "errorlctn2.append(errorL)\n",
    "#10uM*5uL/1000uL\n",
    "cctn2.append(10*5/1000)"
   ]
  },
  {
   "cell_type": "code",
   "execution_count": null,
   "metadata": {
    "colab": {
     "base_uri": "https://localhost:8080/",
     "height": 384
    },
    "id": "ZaRekVykaEkS",
    "outputId": "c7a44d58-3766-4580-c009-5aaf7d5f6df0"
   },
   "outputs": [],
   "source": [
    "#c=1uM\n",
    "L, errorL = calcularL([\"14 B + L + P(1uM) + J .ifx\",\"15 B + L + P(1uM) + J - 1.ifx\",\"15 B + L + P(1uM) + J - 2.ifx\"],[10,15,10],[17,25,20],[30,35,39],[44,44,45],[47,47,47],[69,66,66],\"Intensidad en función de tiempo de buffer y liposomas \\n de buffer, liposomas y 1$\\mu$M de Ctn-2\")\n",
    "print(L, errorL)\n",
    "Lctn2.append(L)\n",
    "errorlctn2.append(errorL)\n",
    "#1uM*5uL/1000uL\n",
    "cctn2.append(1*5/1000)"
   ]
  },
  {
   "cell_type": "code",
   "execution_count": null,
   "metadata": {
    "colab": {
     "base_uri": "https://localhost:8080/",
     "height": 422
    },
    "id": "kxYL4Kcca3em",
    "outputId": "af926d10-b55b-4064-c7d6-413459b4cbb9"
   },
   "outputs": [],
   "source": [
    "#c=0.1uM\n",
    "L, errorL = calcularL([\"16 B + L + P(0.1uM) + J - 1.ifx\",\"16 B + L + P(0.1uM) + J - 2.ifx\"],[10,10,10],[17,25,20],[30,35,36],[44,42,42],[47,47,45],[69,66,66],\"Intensidad en función de tiempo de buffer y liposomas \\n de buffer, liposomas y 0.1$\\mu$M de Ctn-2\")\n",
    "print(L, errorL)\n",
    "Lctn2.append(L)\n",
    "errorlctn2.append(errorL)\n",
    "#0.1uM*5uL/1000uL\n",
    "cctn2.append(0.1*5/1000)\n",
    "\n",
    "print(Lctn2, cctn2)"
   ]
  },
  {
   "cell_type": "markdown",
   "metadata": {
    "id": "GcgJpWo912bS"
   },
   "source": [
    "##***Ctn3***"
   ]
  },
  {
   "cell_type": "code",
   "execution_count": null,
   "metadata": {
    "id": "DpDez_8OnpLd"
   },
   "outputs": [],
   "source": [
    "Lctn3 = []\n",
    "errorlctn3 = []\n",
    "cctn3 = []"
   ]
  },
  {
   "cell_type": "code",
   "execution_count": null,
   "metadata": {
    "colab": {
     "base_uri": "https://localhost:8080/",
     "height": 367
    },
    "id": "ejYdivu2mex8",
    "outputId": "35bc3af4-a6b3-42bb-e5f4-0cadcac73f67"
   },
   "outputs": [],
   "source": [
    "#c=0\n",
    "L, errorL = calcularL([\"01 B + L .ifx\",\"02 B + L .ifx\",\"03 B + L .ifx\"],[24,21,23],[44,41,53],[24,21,23],[44,41,53],[56,58,56],[76,78,66],\"Intensidad en función de tiempo de buffer y liposomas\")\n",
    "print(L, errorL)\n",
    "Lctn3.append(L)\n",
    "errorlctn3.append(errorL)\n",
    "#0uM*5uL/1000uL\n",
    "cctn3.append(0*5/1000)"
   ]
  },
  {
   "cell_type": "code",
   "execution_count": null,
   "metadata": {
    "colab": {
     "base_uri": "https://localhost:8080/",
     "height": 382
    },
    "id": "_m-Ixiq12Od7",
    "outputId": "25b458ec-5f99-46c3-d9b7-9993ec9e76ef"
   },
   "outputs": [],
   "source": [
    "#c=100mM\n",
    "L, errorL = calcularL([\"05 B + L + A(2ul) + T.ifx\",\"06 B + L + A(2ul) + T - 1.ifx\",\"07 B + L + A(2ul) + T - 2.ifx\"],[0,0,0],[17,20,19],[21,23,21],[49,43,43],[52,54,46],[65,65,65],\"Intensidad en función de tiempo de \\n buffer, liposomas y 100mM de Ctn3\")\n",
    "print(L, errorL)\n",
    "Lctn3.append(L)\n",
    "errorlctn3.append(errorL)\n",
    "#100000uM*2uL/1000uL\n",
    "cctn3.append(100000*2/1000)"
   ]
  },
  {
   "cell_type": "code",
   "execution_count": null,
   "metadata": {
    "colab": {
     "base_uri": "https://localhost:8080/",
     "height": 382
    },
    "id": "a1SwCX4a30Gw",
    "outputId": "18776599-3b0d-48ab-c3c6-12bd9771ee63"
   },
   "outputs": [],
   "source": [
    "#c=10mM\n",
    "L, errorL = calcularL([\"09 B + L + B(2ul) + T - 1.ifx\",\"10 B + L + B(2ul) + T - 2.ifx\"],[0,0],[18,19],[23,23],[43,48],[51,49],[65,65],\"Intensidad en función de tiempo de \\n buffer, liposomas y 10mM de Ctn3\")\n",
    "print(L, errorL)\n",
    "Lctn3.append(L)\n",
    "errorlctn3.append(errorL)\n",
    "#10000uM*2uL/1000uL\n",
    "cctn3.append(10000*2/1000)"
   ]
  },
  {
   "cell_type": "code",
   "execution_count": null,
   "metadata": {
    "colab": {
     "base_uri": "https://localhost:8080/",
     "height": 382
    },
    "id": "2PyTpJ9C4RdH",
    "outputId": "affc37d6-249a-4bb8-b7f4-144150324d9f"
   },
   "outputs": [],
   "source": [
    "#c=1mM\n",
    "L, errorL = calcularL([\"11 B + L + C(2ul) + T - 1.ifx\",\"11 B + L + C(2ul) + T.ifx\",\"12 B + L + C(2ul) + T - 2.ifx\"],[0,0,0],[15,20,13],[21,23,21],[39,43,42],[45,50,44],[67,65,65],\"Intensidad en función de tiempo de \\n buffer, liposomas y 1mM de Ctn3\")\n",
    "print(L, errorL)\n",
    "Lctn3.append(L)\n",
    "errorlctn3.append(errorL)\n",
    "#1000uM*2uL/1000uL\n",
    "cctn3.append(1000*2/1000)"
   ]
  },
  {
   "cell_type": "code",
   "execution_count": null,
   "metadata": {
    "colab": {
     "base_uri": "https://localhost:8080/",
     "height": 382
    },
    "id": "Zk3yBlwB5Hdq",
    "outputId": "f8ffe5ee-116d-4c56-9128-d7038c47d41c"
   },
   "outputs": [],
   "source": [
    "#c=0.1mM\n",
    "L, errorL = calcularL([\"13 B + L + D(2ul) + T.ifx\",\"14 B + L + D(2ul) + T - 1.ifx\",\"15 B + L + D(2ul) + T - 2.ifx\"],[0,0,0],[14,16,13],[23,23,21],[41,39,44],[45,43,47],[67,65,65],\"Intensidad en función de tiempo de \\n buffer, liposomas y 1mM de Ctn3\")\n",
    "print(L, errorL)\n",
    "Lctn3.append(L)\n",
    "errorlctn3.append(errorL)\n",
    "#100uM*2uL/1000uL\n",
    "cctn3.append(100*2/1000)"
   ]
  },
  {
   "cell_type": "code",
   "execution_count": null,
   "metadata": {
    "colab": {
     "base_uri": "https://localhost:8080/",
     "height": 382
    },
    "id": "ljs8FGp4L_-p",
    "outputId": "6ecb4603-007f-418d-be16-9522a401148b"
   },
   "outputs": [],
   "source": [
    "#c=0.01mM\n",
    "L, errorL = calcularL([\"16 B + L + E(2ul) + T.ifx\",\"17 B + L + E(2ul) + T - 1.ifx\",\"18 B + L + E(2ul) + T - 2.ifx\"],[0,0,0],[14,16,13],[23,23,21],[41,39,44],[45,46,48],[67,65,65],\"Intensidad en función de tiempo de \\n buffer, liposomas y 1mM de Ctn3\")\n",
    "print(L, errorL)\n",
    "Lctn3.append(L)\n",
    "errorlctn3.append(errorL)\n",
    "#10uM*2uL/1000uL\n",
    "cctn3.append(10*2/1000)"
   ]
  },
  {
   "cell_type": "code",
   "execution_count": null,
   "metadata": {
    "colab": {
     "base_uri": "https://localhost:8080/",
     "height": 382
    },
    "id": "RPHKII35MdVe",
    "outputId": "d97a79d7-f7e5-424b-b0ee-54ee809bb572"
   },
   "outputs": [],
   "source": [
    "#c=1mM\n",
    "L, errorL = calcularL([\"19 B + L + C(4ul) + T - 1.ifx\",\"19 B + L + C(4ul) + T.ifx\"],[0,0],[14,15],[29,28],[47,44],[49,46],[67,65],\"Intensidad en función de tiempo de \\n buffer, liposomas y 1mM de Ctn3\")\n",
    "print(L, errorL)\n",
    "Lctn3.append(L)\n",
    "errorlctn3.append(errorL)\n",
    "#1000uM*4uL/1000uL\n",
    "cctn3.append(1000*4/1000)"
   ]
  },
  {
   "cell_type": "code",
   "execution_count": null,
   "metadata": {
    "colab": {
     "base_uri": "https://localhost:8080/",
     "height": 420
    },
    "id": "68SDdcv5MrmV",
    "outputId": "6732002f-827f-4bd6-d5a6-32513d188b5c"
   },
   "outputs": [],
   "source": [
    "#c=1mM\n",
    "L, errorL = calcularL([\"20 B + L + C(3ul) + T.ifx\",\"21 B + L + C(3ul) + T - 1.ifx\"],[0,0],[18,20],[29,28],[50,54],[52,56],[67,65],\"Intensidad en función de tiempo de \\n buffer, liposomas y 1mM de Ctn3\")\n",
    "print(L, errorL)\n",
    "Lctn3.append(L)\n",
    "errorlctn3.append(errorL)\n",
    "#1000uM*3uL/1000uL\n",
    "cctn3.append(1000*3/1000)\n",
    "\n",
    "print(Lctn3, cctn3)"
   ]
  },
  {
   "cell_type": "markdown",
   "metadata": {
    "id": "Np9hZnqnQtQh"
   },
   "source": [
    "##***Ctn4***"
   ]
  },
  {
   "cell_type": "code",
   "execution_count": null,
   "metadata": {
    "id": "97OPQyh8psM0"
   },
   "outputs": [],
   "source": [
    "Lctn4 = []\n",
    "errorlctn4 = []\n",
    "cctn4 = []"
   ]
  },
  {
   "cell_type": "code",
   "execution_count": null,
   "metadata": {
    "colab": {
     "base_uri": "https://localhost:8080/",
     "height": 367
    },
    "id": "jsU8a9pYPa2h",
    "outputId": "1659dfce-5b84-405e-f9b9-9ec1a13df14f"
   },
   "outputs": [],
   "source": [
    "#c=0\n",
    "L, errorL = calcularL([\"01 B + L + T.ifx\",\"02 B + L + T - 1.ifx\"],[23,29],[48,50],[23,29],[48,50],[50,54],[80,80],\"Intensidad en función de tiempo de buffer y liposomas\")\n",
    "print(L, errorL)\n",
    "Lctn4.append(L)\n",
    "errorlctn4.append(errorL)\n",
    "#0uM*3uL/1000uL\n",
    "cctn4.append(0)"
   ]
  },
  {
   "cell_type": "code",
   "execution_count": null,
   "metadata": {
    "colab": {
     "base_uri": "https://localhost:8080/",
     "height": 382
    },
    "id": "dx_0cN69URA3",
    "outputId": "b958e9ee-614f-44dc-c519-c6a43310b121"
   },
   "outputs": [],
   "source": [
    "#c=100mM\n",
    "L, errorL = calcularL([\"04 B + L + A(2ul) + T .ifx\",\"06 B + L + A(2ul) + T - 1.ifx\",\"07 B + L + A(2ul) + T - 2.ifx\"],[0,0,0],[17,19,17],[29,23,21],[43,39,44],[45,53,46],[67,65,65],\"Intensidad en función de tiempo de \\n buffer, liposomas y 100mM de Ctn4\")\n",
    "print(L, errorL)\n",
    "Lctn4.append(L)\n",
    "errorlctn4.append(errorL)\n",
    "#100,000uM*2uL/1000uL\n",
    "cctn4.append(100000*2/1000)"
   ]
  },
  {
   "cell_type": "code",
   "execution_count": null,
   "metadata": {
    "colab": {
     "base_uri": "https://localhost:8080/",
     "height": 382
    },
    "id": "Cv78HM8NWd4I",
    "outputId": "cc01571d-e86c-4ab5-c1d1-87a1c9c636e8"
   },
   "outputs": [],
   "source": [
    "#c=10mM\n",
    "L, errorL = calcularL([\"09 B + L + B(2ul) + T - 1.ifx\",\"10 B + L + B(2ul) + T - 2.ifx\"],[0,0],[18,18],[23,23],[44,50],[50,51],[65,65],\"Intensidad en función de tiempo de \\n buffer, liposomas y 10mM de Ctn4\")\n",
    "print(L, errorL)\n",
    "Lctn4.append(L)\n",
    "errorlctn4.append(errorL)\n",
    "#10000uM*2uL/1000uL\n",
    "cctn4.append(10000*2/1000)"
   ]
  },
  {
   "cell_type": "code",
   "execution_count": null,
   "metadata": {
    "colab": {
     "base_uri": "https://localhost:8080/",
     "height": 382
    },
    "id": "Wn9-eb56WhtP",
    "outputId": "dd231985-c715-4bc0-ab3d-7f54365ba25c"
   },
   "outputs": [],
   "source": [
    "#c=1mM\n",
    "L, errorL = calcularL([\"11 B + L + C(2ul) + T.ifx\",\"12 B + L + C(2ul) + T - 1.ifx\",\"13 B + L + C(2ul) + T - 2.ifx\"],[0,0,0],[17,19,17],[29,23,21],[43,39,44],[45,53,46],[67,65,65],\"Intensidad en función de tiempo de \\n buffer, liposomas y 1mM de Ctn4\")\n",
    "print(L, errorL)\n",
    "Lctn4.append(L)\n",
    "errorlctn4.append(errorL)\n",
    "#1000uM*2uL/1000uL\n",
    "cctn4.append(1000*2/1000)"
   ]
  },
  {
   "cell_type": "code",
   "execution_count": null,
   "metadata": {
    "colab": {
     "base_uri": "https://localhost:8080/",
     "height": 384
    },
    "id": "1--W65UiXadt",
    "outputId": "8873534c-27ca-4798-a353-671379e6b0b5"
   },
   "outputs": [],
   "source": [
    "#c=0.1mM\n",
    "L, errorL = calcularL([\"14 B + L + D(2ul) + T.ifx\",\"15 B + L + D(2ul) + T - 1.ifx\",\"16 B + L + D(2ul) + T - 2.ifx\"],[0,0,0],[17,18,17],[29,23,21],[43,44,44],[45,47,46],[67,65,65],\"Intensidad en función de tiempo de \\n buffer, liposomas y 100$\\mu$M de Ctn4\")\n",
    "print(L, errorL)\n",
    "Lctn4.append(L)\n",
    "errorlctn4.append(errorL)\n",
    "#100uM*2uL/1000uL\n",
    "cctn4.append(100*2/1000)"
   ]
  },
  {
   "cell_type": "code",
   "execution_count": null,
   "metadata": {
    "colab": {
     "base_uri": "https://localhost:8080/",
     "height": 384
    },
    "id": "7fX-8hOJcX5f",
    "outputId": "67e06268-a995-443c-a2f6-8c4fbd1afea5"
   },
   "outputs": [],
   "source": [
    "#c=0.01mM\n",
    "L, errorL = calcularL([\"17 B + L + E(2ul) + T.ifx\",\"18 B + L + E(2ul) + T - 1.ifx\"],[0,0],[17,18],[29,23],[43,41],[47,45],[67,65],\"Intensidad en función de tiempo de \\n buffer, liposomas y 10$\\mu$M de Ctn4\")\n",
    "print(L, errorL)\n",
    "Lctn4.append(L)\n",
    "errorlctn4.append(errorL)\n",
    "#10uM*2uL/1000uL\n",
    "cctn4.append(10*2/1000)"
   ]
  },
  {
   "cell_type": "code",
   "execution_count": null,
   "metadata": {
    "colab": {
     "base_uri": "https://localhost:8080/",
     "height": 420
    },
    "id": "s3zIsI1BcsDM",
    "outputId": "978af60f-5d29-441b-ddc6-604d1cb48344"
   },
   "outputs": [],
   "source": [
    "#c=1mM\n",
    "L, errorL = calcularL([\"19 B + L + C(5ul) + T - 1.ifx\",\"20 B + L + C(5ul) + T.ifx\"],[0,0],[17,18],[32,41],[46,59],[47,61],[67,67],\"Intensidad en función de tiempo de \\n buffer, liposomas y 1mM de Ctn4\")\n",
    "print(L, errorL)\n",
    "Lctn4.append(L)\n",
    "errorlctn4.append(errorL)\n",
    "#1000uM*5uL/1000uL\n",
    "cctn4.append(1000*5/1000)\n",
    "\n",
    "print(Lctn4,cctn4)"
   ]
  },
  {
   "cell_type": "markdown",
   "metadata": {
    "id": "uRCcIBgo2hfI"
   },
   "source": [
    "##***Resultados Finales***"
   ]
  },
  {
   "cell_type": "code",
   "execution_count": null,
   "metadata": {
    "colab": {
     "background_save": true,
     "base_uri": "https://localhost:8080/",
     "height": 470
    },
    "id": "LEVM-h3z2p9z",
    "outputId": "d976ea15-4351-4edd-8e0e-0ee91f72520f"
   },
   "outputs": [],
   "source": [
    "h = 0.5*(np.log(cctn1[1])+np.log(cctn1[-1]))\n",
    "a=4.414\n",
    "k=-0.0200002001599\n",
    "a,b,c=graficar(Lctn1, errorlctn1, cctn1, \"Ctn1\",[a,h,k])\n",
    "print(Lctn1)\n",
    "a"
   ]
  },
  {
   "cell_type": "code",
   "execution_count": null,
   "metadata": {
    "colab": {
     "background_save": true
    },
    "id": "tvRgVuUH2nfG"
   },
   "outputs": [],
   "source": [
    "graficar(Lctn2, errorlctn2, cctn2, \"Ctn2\",[a,h,k])"
   ]
  },
  {
   "cell_type": "code",
   "execution_count": null,
   "metadata": {
    "colab": {
     "background_save": true
    },
    "id": "MedTgAx82llj"
   },
   "outputs": [],
   "source": [
    "graficar(Lctn3, errorlctn3, cctn3, \"Ctn3\",[a,h,k])"
   ]
  },
  {
   "cell_type": "code",
   "execution_count": null,
   "metadata": {
    "colab": {
     "background_save": true
    },
    "id": "2ugoan6odHTZ"
   },
   "outputs": [],
   "source": [
    "graficar(Lctn4, errorlctn4, cctn4, \"Ctn4\",[a,h,k])"
   ]
  },
  {
   "cell_type": "code",
   "execution_count": 18,
   "metadata": {
    "colab": {
     "base_uri": "https://localhost:8080/",
     "height": 270
    },
    "id": "9JG4-lEF4i_8",
    "outputId": "0b89bb90-62e0-4f1c-f562-d5fa073744f4"
   },
   "outputs": [
    {
     "data": {
      "image/png": "[encoded data removed]",
      "text/plain": [
       "<Figure size 432x288 with 1 Axes>"
      ]
     },
     "metadata": {
      "needs_background": "light"
     },
     "output_type": "display_data"
    }
   ],
   "source": [
    "concentraciones = [0.00108736276072, 0.00709049588087, 0.0829099665752, 0.225327585515]\n",
    "plt.yscale('log')\n",
    "nombres = ['Ctn1', 'Ctn2','Ctn3','Ctn4']\n",
    "plt.bar(nombres,concentraciones)\n",
    "plt.xlabel(\"Variaciones del péptido crotalicidina (Ctn)\")\n",
    "plt.ylabel(\"Concentración para fuga de 50%  [P/L]\")\n",
    "plt.title(\"Comparación de concentración de fuga al 50% \\n para los cuatro péptidos\")\n",
    "plt.savefig('0graficobar.pdf')"
   ]
  },
  {
   "cell_type": "code",
   "execution_count": null,
   "metadata": {
    "colab": {
     "background_save": true
    },
    "id": "Npwh7oPo5Nde"
   },
   "outputs": [],
   "source": []
  }
 ],
 "metadata": {
  "colab": {
   "collapsed_sections": [
    "hRM38qytVAw-",
    "9Gn4Sl27ERGO",
    "mrS5bo_rnG1u",
    "c_ahBgtmRXrf",
    "B2JI5xsbGShO",
    "_3m42RdWGYrm",
    "GcgJpWo912bS",
    "Np9hZnqnQtQh"
   ],
   "name": "Proyecto Experimental.ipynb",
   "provenance": [],
   "toc_visible": true
  },
  "kernelspec": {
   "display_name": "Python 3",
   "language": "python",
   "name": "python3"
  },
  "language_info": {
   "codemirror_mode": {
    "name": "ipython",
    "version": 3
   },
   "file_extension": ".py",
   "mimetype": "text/x-python",
   "name": "python",
   "nbconvert_exporter": "python",
   "pygments_lexer": "ipython3",
   "version": "3.8.5"
  }
 },
 "nbformat": 4,
 "nbformat_minor": 1
}
